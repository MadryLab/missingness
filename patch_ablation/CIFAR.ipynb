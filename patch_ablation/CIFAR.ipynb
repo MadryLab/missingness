{
 "cells": [
  {
   "cell_type": "code",
   "execution_count": 11,
   "id": "domestic-population",
   "metadata": {},
   "outputs": [
    {
     "name": "stdout",
     "output_type": "stream",
     "text": [
      "=> loading checkpoint '/mnt/nfs/home/hadi/src/certified-vit/outdir_missingness/cifar/cifar10-resnet50-30epochs/checkpoint.pt.best'\n",
      "=> loaded checkpoint '/mnt/nfs/home/hadi/src/certified-vit/outdir_missingness/cifar/cifar10-resnet50-30epochs/checkpoint.pt.best' (epoch 26)\n"
     ]
    }
   ],
   "source": [
    "from robustness import model_utils, datasets\n",
    "DATA = 'ImageNet'\n",
    "DATA_PATH_DICT = {\n",
    "    'CIFAR': '/scratch/datasets/cifar10',\n",
    "    'RestrictedImageNet': '/mnt/nfs/datasets/imagenet-pytorch',\n",
    "    'ImageNet': '/mnt/nfs/datasets/imagenet-pytorch',\n",
    "    'H2Z': '/scratch/datasets/A2B/horse2zebra',\n",
    "    'A2O': '/scratch/datasets/A2B/apple2orange',\n",
    "    'S2W': '/scratch/datasets/A2B/summer2winter_yosemite',\n",
    "    'ImageNetAnnot': '/data/theory/robustopt/datasets/imagenet-bounding-boxes'\n",
    "}\n",
    "dataset = getattr(datasets, DATA)(DATA_PATH_DICT[DATA])\n",
    "dataset.num_classes = 10\n",
    "\n",
    "model_kwargs = {\n",
    "    'arch': 'resnet50',\n",
    "    'add_custom_forward': True,\n",
    "    'dataset': dataset,\n",
    "    'pytorch_pretrained': False,\n",
    "    'resume_path': \"/mnt/nfs/home/hadi/src/certified-vit/outdir_missingness/cifar/cifar10-resnet50-30epochs/checkpoint.pt.best\",\n",
    "}\n",
    "net, _ = model_utils.make_and_restore_model(**model_kwargs)\n",
    "net = net.model"
   ]
  },
  {
   "cell_type": "code",
   "execution_count": 5,
   "id": "victorian-liechtenstein",
   "metadata": {},
   "outputs": [
    {
     "data": {
      "text/plain": [
       "robustness.datasets.CIFAR"
      ]
     },
     "execution_count": 5,
     "metadata": {},
     "output_type": "execute_result"
    }
   ],
   "source": [
    "getattr(datasets, DATA)"
   ]
  },
  {
   "cell_type": "code",
   "execution_count": 29,
   "id": "quick-payment",
   "metadata": {},
   "outputs": [],
   "source": [
    "import torch as ch\n",
    "CIFAR_NORMALIZE = torchvision.transforms.Normalize(\n",
    "    mean=ch.tensor([0.4914, 0.4822, 0.4465]),\n",
    "    std=ch.tensor([0.2023, 0.1994, 0.2010]),\n",
    ")\n",
    "img_transform = torchvision.transforms.Compose([\n",
    "    torchvision.transforms.ToTensor(),\n",
    "    torchvision.transforms.Resize((224, 224)),\n",
    "    CIFAR_NORMALIZE\n",
    "])\n"
   ]
  },
  {
   "cell_type": "code",
   "execution_count": 30,
   "id": "adjusted-group",
   "metadata": {},
   "outputs": [],
   "source": [
    "import torchvision\n",
    "ds = torchvision.datasets.CIFAR10('/mnt/nfs/datasets/cifar', train=False, transform=img_transform)"
   ]
  },
  {
   "cell_type": "code",
   "execution_count": 31,
   "id": "variable-prompt",
   "metadata": {},
   "outputs": [],
   "source": [
    "import torch\n",
    "dl = torch.utils.data.DataLoader(ds, batch_size=128)"
   ]
  },
  {
   "cell_type": "code",
   "execution_count": 61,
   "id": "renewable-rehabilitation",
   "metadata": {},
   "outputs": [],
   "source": [
    "all_val = []\n",
    "with torch.no_grad():\n",
    "    for x, y in dl:\n",
    "        x = x.cuda()\n",
    "        out = net(x)\n",
    "        all_val.append((out.argmax(-1) == y.cuda()).cpu())"
   ]
  },
  {
   "cell_type": "code",
   "execution_count": 62,
   "id": "dangerous-telling",
   "metadata": {},
   "outputs": [],
   "source": [
    "all_val = torch.cat(all_val)"
   ]
  },
  {
   "cell_type": "code",
   "execution_count": 63,
   "id": "further-christian",
   "metadata": {},
   "outputs": [
    {
     "data": {
      "text/plain": [
       "tensor(0.9677)"
      ]
     },
     "execution_count": 63,
     "metadata": {},
     "output_type": "execute_result"
    }
   ],
   "source": [
    "all_val.float().mean()"
   ]
  },
  {
   "cell_type": "code",
   "execution_count": 43,
   "id": "complete-bangkok",
   "metadata": {},
   "outputs": [
    {
     "ename": "ModuleNotFoundError",
     "evalue": "No module named 'config'",
     "output_type": "error",
     "traceback": [
      "\u001b[0;31m---------------------------------------------------------------------------\u001b[0m",
      "\u001b[0;31mModuleNotFoundError\u001b[0m                       Traceback (most recent call last)",
      "\u001b[0;32m<ipython-input-43-80d463b519d8>\u001b[0m in \u001b[0;36m<module>\u001b[0;34m\u001b[0m\n\u001b[0;32m----> 1\u001b[0;31m \u001b[0;32mfrom\u001b[0m \u001b[0mds_utils\u001b[0m \u001b[0;32mimport\u001b[0m \u001b[0mget_full_model\u001b[0m\u001b[0;34m\u001b[0m\u001b[0;34m\u001b[0m\u001b[0m\n\u001b[0m",
      "\u001b[0;32m~/src/CausalDomainTransfer/patch_ablation/ds_utils.py\u001b[0m in \u001b[0;36m<module>\u001b[0;34m\u001b[0m\n\u001b[1;32m     10\u001b[0m \u001b[0;32mfrom\u001b[0m \u001b[0mmatplotlib\u001b[0m\u001b[0;34m.\u001b[0m\u001b[0mcolors\u001b[0m \u001b[0;32mimport\u001b[0m \u001b[0mLinearSegmentedColormap\u001b[0m\u001b[0;34m\u001b[0m\u001b[0;34m\u001b[0m\u001b[0m\n\u001b[1;32m     11\u001b[0m \u001b[0;32mimport\u001b[0m \u001b[0mgpustat\u001b[0m\u001b[0;34m\u001b[0m\u001b[0;34m\u001b[0m\u001b[0m\n\u001b[0;32m---> 12\u001b[0;31m \u001b[0;32mfrom\u001b[0m \u001b[0mconfig\u001b[0m \u001b[0;32mimport\u001b[0m \u001b[0mcfg\u001b[0m\u001b[0;34m\u001b[0m\u001b[0;34m\u001b[0m\u001b[0m\n\u001b[0m\u001b[1;32m     13\u001b[0m \u001b[0;32mfrom\u001b[0m \u001b[0mmodels\u001b[0m \u001b[0;32mimport\u001b[0m \u001b[0mbuild_model\u001b[0m\u001b[0;34m\u001b[0m\u001b[0;34m\u001b[0m\u001b[0m\n\u001b[1;32m     14\u001b[0m \u001b[0;32mfrom\u001b[0m \u001b[0mskimage\u001b[0m\u001b[0;34m.\u001b[0m\u001b[0msegmentation\u001b[0m \u001b[0;32mimport\u001b[0m \u001b[0mquickshift\u001b[0m\u001b[0;34m\u001b[0m\u001b[0;34m\u001b[0m\u001b[0m\n",
      "\u001b[0;31mModuleNotFoundError\u001b[0m: No module named 'config'"
     ]
    }
   ],
   "source": []
  },
  {
   "cell_type": "code",
   "execution_count": 48,
   "id": "public-fitness",
   "metadata": {},
   "outputs": [],
   "source": [
    "import sys\n",
    "sys.path.append('../src')\n",
    "from ds_utils import get_full_model"
   ]
  },
  {
   "cell_type": "code",
   "execution_count": 58,
   "id": "random-bible",
   "metadata": {},
   "outputs": [
    {
     "name": "stdout",
     "output_type": "stream",
     "text": [
      "/data/theory/robustopt/saachij/src/CausalDomainTransfer/run/imagenet/old_deit_small_patch16_224-cd65a155.pth\n",
      "torchvision models: \n",
      " ['alexnet', 'densenet121', 'densenet161', 'densenet169', 'densenet201', 'googlenet', 'inception_v3', 'mnasnet0_5', 'mnasnet0_75', 'mnasnet1_0', 'mnasnet1_3', 'mobilenet_v2', 'mobilenet_v3_large', 'mobilenet_v3_small', 'resnet101', 'resnet152', 'resnet18', 'resnet34', 'resnet50', 'resnext101_32x8d', 'resnext50_32x4d', 'shufflenet_v2_x0_5', 'shufflenet_v2_x1_0', 'shufflenet_v2_x1_5', 'shufflenet_v2_x2_0', 'squeezenet1_0', 'squeezenet1_1', 'vgg11', 'vgg11_bn', 'vgg13', 'vgg13_bn', 'vgg16', 'vgg16_bn', 'vgg19', 'vgg19_bn', 'wide_resnet101_2', 'wide_resnet50_2']\n",
      "customized models: \n",
      " ['mylinear', 'myvgg', 'myresnet18', 'myresnet50', 'mypreactresnet18', 'mylenet', 'mydensenet121', 'mymobilenet', 'mymobilenet2', 'mydpn92', 'myshufflenet', 'mysenet18', 'mysresnet18', 'mysresnet50']\n",
      "Vision Transformer models: \n",
      " ['vit_small_patch16_224', 'vit_base_patch16_224', 'vit_base_patch16_384', 'vit_base_patch32_384', 'vit_large_patch16_224', 'vit_large_patch16_384', 'vit_large_patch32_384', 'vit_huge_patch16_224', 'vit_huge_patch32_384', 'deit_tiny_patch16_224', 'deit_small_patch16_224', 'deit_base_patch16_224', 'deit_base_patch16_384', 'deit_tiny_patch4_32', 'deit_small_patch4_32', 'deit_base_patch4_32']\n",
      "Invariant Vision Transformer models: \n",
      " ['invariant_vit_small_patch16_224', 'invariant_vit_base_patch16_224']\n",
      "==> Building model..\n",
      "CUDA available: True\n",
      "Device count: 1\n",
      "Tesla V100-PCIE-32GB\n",
      "deep-gpu-11              Sun Nov 14 15:57:01 2021  460.91.03\n",
      "[0] Tesla V100-PCIE-32GB | 36'C,   0 % | 12475 / 32510 MB | saachij(12471M)\n",
      "[1] Tesla V100-PCIE-32GB | 58'C,  77 % |  2847 / 32510 MB | spark(2843M)\n",
      "[2] Tesla V100-PCIE-32GB | 54'C,  33 % | 26446 / 32510 MB | wongeric(17011M) wongeric(9431M)\n",
      "[3] Tesla V100-PCIE-32GB | 53'C,  34 % |  9435 / 32510 MB | wongeric(9431M)\n",
      "[4] Tesla V100-PCIE-32GB | 58'C,  81 % |  3605 / 32510 MB | spark(3601M)\n",
      "[5] Tesla V100-PCIE-32GB | 55'C,  80 % |  3557 / 32510 MB | spark(3553M)\n",
      "[6] Tesla V100-PCIE-32GB | 70'C,  81 % |  2855 / 32510 MB | spark(2851M)\n",
      "[7] Tesla V100-PCIE-32GB | 65'C,  82 % |  3605 / 32510 MB | spark(3601M)\n",
      "Used by pytorch: 0.05 GB / 34.09 GB\n"
     ]
    }
   ],
   "source": [
    "prebuilt = get_full_model('deit_small_patch16_224', None)"
   ]
  },
  {
   "cell_type": "code",
   "execution_count": 59,
   "id": "sound-break",
   "metadata": {},
   "outputs": [],
   "source": [
    "import torch.nn as nn\n",
    "prebuilt.head = nn.Linear(prebuilt.head.in_features, 10)"
   ]
  },
  {
   "cell_type": "code",
   "execution_count": 60,
   "id": "emotional-haven",
   "metadata": {},
   "outputs": [
    {
     "name": "stdout",
     "output_type": "stream",
     "text": [
      "=> loading checkpoint '/mnt/nfs/home/hadi/src/certified-vit/outdir_missingness/cifar/cifar10-deit_small_patch16_224-30epochs/checkpoint.pt.best'\n",
      "=> loaded checkpoint '/mnt/nfs/home/hadi/src/certified-vit/outdir_missingness/cifar/cifar10-deit_small_patch16_224-30epochs/checkpoint.pt.best' (epoch 21)\n"
     ]
    }
   ],
   "source": [
    "from robustness import model_utils, datasets\n",
    "\n",
    "dataset = getattr(datasets, DATA)(DATA_PATH_DICT[DATA])\n",
    "dataset.num_classes = 10\n",
    "\n",
    "model_kwargs = {\n",
    "    'arch': prebuilt,\n",
    "    'add_custom_forward': True,\n",
    "    'dataset': dataset,\n",
    "    'pytorch_pretrained': False,\n",
    "    'resume_path': \"/mnt/nfs/home/hadi/src/certified-vit/outdir_missingness/cifar/cifar10-deit_small_patch16_224-30epochs/checkpoint.pt.best\",\n",
    "}\n",
    "net, _ = model_utils.make_and_restore_model(**model_kwargs)\n",
    "net = net.model"
   ]
  },
  {
   "cell_type": "code",
   "execution_count": null,
   "id": "persistent-japan",
   "metadata": {},
   "outputs": [],
   "source": []
  }
 ],
 "metadata": {
  "kernelspec": {
   "display_name": "Python 3 (ipykernel)",
   "language": "python",
   "name": "python3"
  },
  "language_info": {
   "codemirror_mode": {
    "name": "ipython",
    "version": 3
   },
   "file_extension": ".py",
   "mimetype": "text/x-python",
   "name": "python",
   "nbconvert_exporter": "python",
   "pygments_lexer": "ipython3",
   "version": "3.9.9"
  }
 },
 "nbformat": 4,
 "nbformat_minor": 5
}
