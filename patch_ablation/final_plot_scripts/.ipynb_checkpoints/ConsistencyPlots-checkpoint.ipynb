{
 "cells": [
  {
   "cell_type": "code",
   "execution_count": 1,
   "id": "civic-introduction",
   "metadata": {},
   "outputs": [],
   "source": [
    "import os\n",
    "import pickle as pkl\n",
    "import scipy.spatial.distance as scipy_dist"
   ]
  },
  {
   "cell_type": "code",
   "execution_count": 2,
   "id": "continued-disclosure",
   "metadata": {},
   "outputs": [],
   "source": [
    "rootdir = \"/mnt/nfs/home/saachij/src/CausalDomainTransfer/patch_ablation/missingness_results/superpixel_redo_color_sweep\""
   ]
  },
  {
   "cell_type": "code",
   "execution_count": 3,
   "id": "derived-constraint",
   "metadata": {},
   "outputs": [],
   "source": [
    "colors = os.listdir(rootdir)"
   ]
  },
  {
   "cell_type": "code",
   "execution_count": 4,
   "id": "golden-hamburg",
   "metadata": {},
   "outputs": [],
   "source": [
    "results = {}\n",
    "for c in colors:\n",
    "    p = os.path.join(rootdir, c)\n",
    "    for m in os.listdir(p):\n",
    "        if m not in results: \n",
    "            results[m] = []\n",
    "        full_path = os.path.join(p, m, \"lime.pkl\")\n",
    "        if os.path.exists(full_path):\n",
    "            with open(full_path, 'rb') as f:\n",
    "                results[m].append(pkl.load(f)['lime_ordering'])"
   ]
  },
  {
   "cell_type": "code",
   "execution_count": 5,
   "id": "decreased-desktop",
   "metadata": {},
   "outputs": [],
   "source": [
    "import numpy as np\n",
    "R = np.stack(results['deit_small_resnet_aug'])"
   ]
  },
  {
   "cell_type": "code",
   "execution_count": 6,
   "id": "impressed-geometry",
   "metadata": {},
   "outputs": [],
   "source": [
    "all_random = []\n",
    "for _ in range(8):\n",
    "    random = []\n",
    "    for _ in range(10000):\n",
    "        arr = np.arange(196)\n",
    "        np.random.shuffle(arr)\n",
    "        random.append(arr)\n",
    "    all_random.append(np.stack(random))\n",
    "all_random = np.stack(all_random)"
   ]
  },
  {
   "cell_type": "code",
   "execution_count": 7,
   "id": "refined-value",
   "metadata": {},
   "outputs": [
    {
     "data": {
      "text/plain": [
       "(8, 10000, 196)"
      ]
     },
     "execution_count": 7,
     "metadata": {},
     "output_type": "execute_result"
    }
   ],
   "source": [
    "all_random.shape"
   ]
  },
  {
   "cell_type": "code",
   "execution_count": 8,
   "id": "weighted-cinema",
   "metadata": {},
   "outputs": [],
   "source": [
    "from functools import reduce"
   ]
  },
  {
   "cell_type": "code",
   "execution_count": 7,
   "id": "loving-nicholas",
   "metadata": {},
   "outputs": [],
   "source": [
    "def get_jaccards(R):\n",
    "    mega_all_ious = []\n",
    "    for b in range(10000):\n",
    "        if b % 1000 == 0:\n",
    "            print(b)\n",
    "        all_ious = []\n",
    "        for T in range(1, 196):\n",
    "            mask = np.zeros((8, 196))\n",
    "            np.put_along_axis(mask, R[:, b, :T], 1, axis=1)\n",
    "            all_ious.append(1-scipy_dist.pdist(mask, metric='jaccard'))\n",
    "        mega_all_ious.append(all_ious)\n",
    "    mega_all_ious = [np.stack(u) for u in mega_all_ious]\n",
    "    mega_all_ious = np.stack(mega_all_ious)\n",
    "    mega_all_ious = mega_all_ious.mean(axis=0)\n",
    "    return mega_all_ious"
   ]
  },
  {
   "cell_type": "code",
   "execution_count": 10,
   "id": "grand-clone",
   "metadata": {},
   "outputs": [],
   "source": [
    "def get_jaccards(R):\n",
    "    mega_all_ious = []\n",
    "    for b in range(10000):\n",
    "        if b % 1000 == 0:\n",
    "            print(b)\n",
    "        all_ious = []\n",
    "        for T in range(1, 196):\n",
    "            mask = np.zeros((8, 196))\n",
    "            np.put_along_axis(mask, R[:, b, :T], 1, axis=1)\n",
    "            all_ious.append(1-scipy_dist.pdist(mask, metric='jaccard').mean())\n",
    "        mega_all_ious.append(all_ious)\n",
    "    mega_all_ious = np.stack(mega_all_ious)\n",
    "    jaccards = mega_all_ious.mean(axis=0)\n",
    "    return jaccards"
   ]
  },
  {
   "cell_type": "code",
   "execution_count": 8,
   "id": "primary-indonesia",
   "metadata": {},
   "outputs": [
    {
     "name": "stdout",
     "output_type": "stream",
     "text": [
      "0\n",
      "1000\n",
      "2000\n",
      "3000\n",
      "4000\n",
      "5000\n",
      "6000\n",
      "7000\n",
      "8000\n",
      "9000\n"
     ]
    }
   ],
   "source": [
    "resnet_jaccards = get_jaccards(np.stack(results['resnet50']))"
   ]
  },
  {
   "cell_type": "code",
   "execution_count": 10,
   "id": "featured-proof",
   "metadata": {},
   "outputs": [],
   "source": [
    "resnet_jaccards = [np.stack(u) for u in resnet_jaccards]"
   ]
  },
  {
   "cell_type": "code",
   "execution_count": 11,
   "id": "cooked-pearl",
   "metadata": {},
   "outputs": [],
   "source": [
    "resnet_jaccards = np.stack(resnet_jaccards)"
   ]
  },
  {
   "cell_type": "code",
   "execution_count": 16,
   "id": "strategic-alberta",
   "metadata": {},
   "outputs": [],
   "source": [
    "mean_resnet_jaccards = resnet_jaccards.mean(axis=0)"
   ]
  },
  {
   "cell_type": "code",
   "execution_count": 18,
   "id": "hawaiian-grant",
   "metadata": {},
   "outputs": [
    {
     "data": {
      "text/plain": [
       "(195, 28)"
      ]
     },
     "execution_count": 18,
     "metadata": {},
     "output_type": "execute_result"
    }
   ],
   "source": [
    "mean_resnet_jaccards.shape"
   ]
  },
  {
   "cell_type": "code",
   "execution_count": 12,
   "id": "covered-suspect",
   "metadata": {},
   "outputs": [
    {
     "name": "stdout",
     "output_type": "stream",
     "text": [
      "0\n",
      "1000\n",
      "2000\n",
      "3000\n",
      "4000\n",
      "5000\n",
      "6000\n",
      "7000\n",
      "8000\n",
      "9000\n"
     ]
    }
   ],
   "source": [
    "transformer_jaccards = get_jaccards(np.stack(results['deit_small_resnet_aug']))"
   ]
  },
  {
   "cell_type": "code",
   "execution_count": 13,
   "id": "dangerous-tuning",
   "metadata": {},
   "outputs": [
    {
     "name": "stdout",
     "output_type": "stream",
     "text": [
      "0\n",
      "1000\n",
      "2000\n",
      "3000\n",
      "4000\n",
      "5000\n",
      "6000\n",
      "7000\n",
      "8000\n",
      "9000\n"
     ]
    }
   ],
   "source": [
    "random_jaccards = get_jaccards(all_random)"
   ]
  },
  {
   "cell_type": "code",
   "execution_count": 14,
   "id": "fancy-configuration",
   "metadata": {},
   "outputs": [],
   "source": [
    "import seaborn as sns\n",
    "import matplotlib.pyplot as plt\n",
    "sns.set()\n",
    "sns.set(style='ticks', font='sans-serif')\n",
    "plt.style.use('ggplot')"
   ]
  },
  {
   "cell_type": "code",
   "execution_count": 25,
   "id": "bizarre-korean",
   "metadata": {},
   "outputs": [],
   "source": [
    "vit_style = ['ViT-S (masking pixels)', 'green']\n",
    "vit_miss_style = ['ViT-S (dropping tokens)', 'blue']\n",
    "resnet_style = ['ResNet-50', 'red']\n",
    "random_style = ['Random', 'gray']"
   ]
  },
  {
   "cell_type": "code",
   "execution_count": 26,
   "id": "liable-mambo",
   "metadata": {},
   "outputs": [
    {
     "data": {
      "image/png": "[encoded data removed]",
      "text/plain": [
       "<Figure size 432x288 with 1 Axes>"
      ]
     },
     "metadata": {},
     "output_type": "display_data"
    }
   ],
   "source": [
    "def get_handles():\n",
    "    fig, ax = plt.subplots(1, 1)\n",
    "    dummy_x = np.arange(5)\n",
    "    dummy_y = np.ones(5)\n",
    "    for model_name, color in [resnet_style, vit_miss_style, vit_style, random_style]:\n",
    "        sns.lineplot(x=dummy_x, y=dummy_y, color=color, linestyle='-', label=model_name, ax=ax)\n",
    "    handles, labels = ax.get_legend_handles_labels()\n",
    "    plt.show()\n",
    "    return handles, labels\n",
    "handles, labels = get_handles()\n",
    "# print(handles[0].__dict__)"
   ]
  },
  {
   "cell_type": "code",
   "execution_count": 27,
   "id": "bibliographic-alias",
   "metadata": {},
   "outputs": [
    {
     "data": {
      "image/png": "[encoded data removed]",
      "text/plain": [
       "<Figure size 720x504 with 1 Axes>"
      ]
     },
     "metadata": {},
     "output_type": "display_data"
    }
   ],
   "source": [
    "import matplotlib.pyplot as plt\n",
    "fig, ax = plt.subplots(1, 1, figsize=(10,7))\n",
    "sns.lineplot(x=np.arange(1, 196), y=np.ones(195), linewidth=2, label=vit_miss_style[0], color=vit_miss_style[1], ax=ax)\n",
    "sns.lineplot(x=np.arange(1, 196), y=transformer_jaccards, linewidth=2, label=vit_style[0], color=vit_style[1], ax=ax)\n",
    "sns.lineplot(x=np.arange(1, 196), y=resnet_jaccards, linewidth=2, label=resnet_style[0], color=resnet_style[1], ax=ax)\n",
    "sns.lineplot(x=np.arange(1, 196), y=random_jaccards, linewidth=2, label=random_style[0], color=random_style[1], ax=ax)\n",
    "sns.lineplot(x=np.arange(1, 196), y=random_jaccards, linewidth=2, label=random_style[0], color=random_style[1], ax=ax)\n",
    "ax.tick_params(axis='x', labelsize=18)\n",
    "ax.tick_params(axis='y', labelsize=18)\n",
    "plt.xlabel('Top K Features', fontsize=18)\n",
    "plt.ylabel('Jaccard Similarity of \\n Top K Feature Sets', fontsize=18)\n",
    "plt.legend(handles,labels, frameon=True, fontsize=18)\n",
    "plt.savefig(\"consistency.pdf\", bbox_inches='tight')\n",
    "plt.show()"
   ]
  },
  {
   "cell_type": "code",
   "execution_count": 102,
   "id": "agreed-coating",
   "metadata": {},
   "outputs": [
    {
     "ename": "ModuleNotFoundError",
     "evalue": "No module named 'scipy.spatial.distance.pdist'; 'scipy.spatial.distance' is not a package",
     "output_type": "error",
     "traceback": [
      "\u001b[0;31m---------------------------------------------------------------------------\u001b[0m",
      "\u001b[0;31mModuleNotFoundError\u001b[0m                       Traceback (most recent call last)",
      "\u001b[0;32m<ipython-input-102-6dfbc728e508>\u001b[0m in \u001b[0;36m<module>\u001b[0;34m\u001b[0m\n\u001b[0;32m----> 1\u001b[0;31m \u001b[0;32mimport\u001b[0m \u001b[0mscipy\u001b[0m\u001b[0;34m.\u001b[0m\u001b[0mspatial\u001b[0m\u001b[0;34m.\u001b[0m\u001b[0mdistance\u001b[0m\u001b[0;34m.\u001b[0m\u001b[0mpdist\u001b[0m \u001b[0;32mas\u001b[0m \u001b[0mpdist\u001b[0m\u001b[0;34m\u001b[0m\u001b[0;34m\u001b[0m\u001b[0m\n\u001b[0m",
      "\u001b[0;31mModuleNotFoundError\u001b[0m: No module named 'scipy.spatial.distance.pdist'; 'scipy.spatial.distance' is not a package"
     ]
    }
   ],
   "source": [
    "import scipy.spatial.distance.pdist as pdist"
   ]
  },
  {
   "cell_type": "code",
   "execution_count": 111,
   "id": "consistent-google",
   "metadata": {},
   "outputs": [],
   "source": []
  },
  {
   "cell_type": "code",
   "execution_count": 106,
   "id": "cardiac-payday",
   "metadata": {},
   "outputs": [
    {
     "ename": "ModuleNotFoundError",
     "evalue": "No module named 'scipy.spatial.distance.pdist'; 'scipy.spatial.distance' is not a package",
     "output_type": "error",
     "traceback": [
      "\u001b[0;31m---------------------------------------------------------------------------\u001b[0m",
      "\u001b[0;31mModuleNotFoundError\u001b[0m                       Traceback (most recent call last)",
      "\u001b[0;32m<ipython-input-106-6dfbc728e508>\u001b[0m in \u001b[0;36m<module>\u001b[0;34m\u001b[0m\n\u001b[0;32m----> 1\u001b[0;31m \u001b[0;32mimport\u001b[0m \u001b[0mscipy\u001b[0m\u001b[0;34m.\u001b[0m\u001b[0mspatial\u001b[0m\u001b[0;34m.\u001b[0m\u001b[0mdistance\u001b[0m\u001b[0;34m.\u001b[0m\u001b[0mpdist\u001b[0m \u001b[0;32mas\u001b[0m \u001b[0mpdist\u001b[0m\u001b[0;34m\u001b[0m\u001b[0;34m\u001b[0m\u001b[0m\n\u001b[0m",
      "\u001b[0;31mModuleNotFoundError\u001b[0m: No module named 'scipy.spatial.distance.pdist'; 'scipy.spatial.distance' is not a package"
     ]
    }
   ],
   "source": [
    "import scipy.spatial.distance.pdist as pdist"
   ]
  },
  {
   "cell_type": "code",
   "execution_count": 118,
   "id": "about-poetry",
   "metadata": {},
   "outputs": [
    {
     "data": {
      "text/plain": [
       "array([1.])"
      ]
     },
     "execution_count": 118,
     "metadata": {},
     "output_type": "execute_result"
    }
   ],
   "source": [
    "dst.pdist([[0, 0, 1], [0, 0, 1]], metric='jaccard')"
   ]
  },
  {
   "cell_type": "code",
   "execution_count": null,
   "id": "decent-print",
   "metadata": {},
   "outputs": [],
   "source": []
  }
 ],
 "metadata": {
  "kernelspec": {
   "display_name": "Python 3",
   "language": "python",
   "name": "python3"
  },
  "language_info": {
   "codemirror_mode": {
    "name": "ipython",
    "version": 3
   },
   "file_extension": ".py",
   "mimetype": "text/x-python",
   "name": "python",
   "nbconvert_exporter": "python",
   "pygments_lexer": "ipython3",
   "version": "3.9.2"
  }
 },
 "nbformat": 4,
 "nbformat_minor": 5
}
