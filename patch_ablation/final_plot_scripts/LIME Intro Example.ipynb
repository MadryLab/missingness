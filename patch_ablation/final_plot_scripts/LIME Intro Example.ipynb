{
 "cells": [
  {
   "cell_type": "code",
   "execution_count": 2,
   "id": "sharing-chest",
   "metadata": {},
   "outputs": [],
   "source": [
    "import os\n",
    "import sys\n",
    "import torch\n",
    "sys.path.append('..')\n",
    "sys.path.append('../../src')\n",
    "\n",
    "from patch_ablation_utils import PatchMaster, SuperPixelPatchMaster\n",
    "\n",
    "import ds_utils"
   ]
  },
  {
   "cell_type": "code",
   "execution_count": 3,
   "id": "metropolitan-wayne",
   "metadata": {},
   "outputs": [
    {
     "name": "stdout",
     "output_type": "stream",
     "text": [
      "length of DS 10000\n"
     ]
    }
   ],
   "source": [
    "dataset = ds_utils.ImageNetMegaDS()"
   ]
  },
  {
   "cell_type": "code",
   "execution_count": 6,
   "id": "dress-breach",
   "metadata": {},
   "outputs": [
    {
     "name": "stderr",
     "output_type": "stream",
     "text": [
      "/mnt/nfs/home/saachij/conda_envs/saachi_env/lib/python3.9/site-packages/torch/utils/data/dataloader.py:474: UserWarning: This DataLoader will create 4 worker processes in total. Our suggested max number of worker in current system is 1, which is smaller than what this DataLoader is going to create. Please be aware that excessive worker creation might get DataLoader running slow or even freeze, lower the worker number to avoid potential slowness/freeze if necessary.\n",
      "  warnings.warn(_create_warning_msg(\n"
     ]
    }
   ],
   "source": [
    "dl = ds_utils.get_loader(dataset)"
   ]
  },
  {
   "cell_type": "code",
   "execution_count": null,
   "id": "minimal-poland",
   "metadata": {},
   "outputs": [],
   "source": [
    "with torch.no_grad():\n",
    "    "
   ]
  }
 ],
 "metadata": {
  "kernelspec": {
   "display_name": "Python 3",
   "language": "python",
   "name": "python3"
  },
  "language_info": {
   "codemirror_mode": {
    "name": "ipython",
    "version": 3
   },
   "file_extension": ".py",
   "mimetype": "text/x-python",
   "name": "python",
   "nbconvert_exporter": "python",
   "pygments_lexer": "ipython3",
   "version": "3.9.2"
  }
 },
 "nbformat": 4,
 "nbformat_minor": 5
}
